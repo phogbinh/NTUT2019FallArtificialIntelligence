{
 "cells": [
  {
   "cell_type": "code",
   "execution_count": 1,
   "metadata": {},
   "outputs": [],
   "source": [
    "# import libraries.\n",
    "%matplotlib inline\n",
    "import matplotlib.pyplot as plt\n",
    "import numpy as np\n",
    "import pandas as pd\n",
    "import sklearn as sk\n",
    "from sklearn import *\n",
    "import graphviz"
   ]
  },
  {
   "cell_type": "code",
   "execution_count": 2,
   "metadata": {},
   "outputs": [],
   "source": [
    "# define constants.\n",
    "WIND_SPEED_COLUMN_NAME = 'Ws'\n",
    "TORQUE_COLUMN_NAME = 'Rm'\n",
    "CONVERTER_TORQUE_COLUMN_NAME = 'Cm'\n",
    "ROTOR_SPEED_COLUMN_NAME = 'Rs'\n",
    "POWER_COLUMN_NAME = 'P'\n",
    "INPUT_COLUMNS_CLUSTERS_COUNT = 3"
   ]
  },
  {
   "cell_type": "code",
   "execution_count": 3,
   "metadata": {},
   "outputs": [],
   "source": [
    "# define the feature names.\n",
    "feature_names = [WIND_SPEED_COLUMN_NAME, TORQUE_COLUMN_NAME, CONVERTER_TORQUE_COLUMN_NAME, ROTOR_SPEED_COLUMN_NAME]"
   ]
  },
  {
   "cell_type": "code",
   "execution_count": 4,
   "metadata": {},
   "outputs": [],
   "source": [
    "# define numpy 1D array plot function.\n",
    "def plot_array(graph_title, array):\n",
    "    plt.title(graph_title)\n",
    "    plt.xlabel('Indices')\n",
    "    plt.ylabel('Values')\n",
    "    plt.plot(array, 'ob')\n",
    "    plt.show()"
   ]
  },
  {
   "cell_type": "code",
   "execution_count": 5,
   "metadata": {},
   "outputs": [],
   "source": [
    "# read data.\n",
    "dataframe = pd.read_csv('wind_power_data_2017_2020.csv')"
   ]
  },
  {
   "cell_type": "code",
   "execution_count": 6,
   "metadata": {},
   "outputs": [],
   "source": [
    "# filter the dataframe columns of wind speed, torque, converter torque, rotor speed, and power.\n",
    "concat_object = [dataframe[WIND_SPEED_COLUMN_NAME],\n",
    "                 dataframe[TORQUE_COLUMN_NAME],\n",
    "                 dataframe[CONVERTER_TORQUE_COLUMN_NAME],\n",
    "                 dataframe[ROTOR_SPEED_COLUMN_NAME],\n",
    "                 dataframe[POWER_COLUMN_NAME]]\n",
    "concat_keys = [WIND_SPEED_COLUMN_NAME,\n",
    "               TORQUE_COLUMN_NAME,\n",
    "               CONVERTER_TORQUE_COLUMN_NAME,\n",
    "               ROTOR_SPEED_COLUMN_NAME,\n",
    "               POWER_COLUMN_NAME]\n",
    "filtered_dataframe = pd.concat(concat_object, axis=1, keys=concat_keys)"
   ]
  },
  {
   "cell_type": "code",
   "execution_count": 7,
   "metadata": {},
   "outputs": [
    {
     "data": {
      "text/html": [
       "<div>\n",
       "<style scoped>\n",
       "    .dataframe tbody tr th:only-of-type {\n",
       "        vertical-align: middle;\n",
       "    }\n",
       "\n",
       "    .dataframe tbody tr th {\n",
       "        vertical-align: top;\n",
       "    }\n",
       "\n",
       "    .dataframe thead th {\n",
       "        text-align: right;\n",
       "    }\n",
       "</style>\n",
       "<table border=\"1\" class=\"dataframe\">\n",
       "  <thead>\n",
       "    <tr style=\"text-align: right;\">\n",
       "      <th></th>\n",
       "      <th>Ws</th>\n",
       "      <th>Rm</th>\n",
       "      <th>Cm</th>\n",
       "      <th>Rs</th>\n",
       "      <th>P</th>\n",
       "    </tr>\n",
       "  </thead>\n",
       "  <tbody>\n",
       "    <tr>\n",
       "      <th>0</th>\n",
       "      <td>1.90</td>\n",
       "      <td>-336.720000</td>\n",
       "      <td>3.10</td>\n",
       "      <td>0.84</td>\n",
       "      <td>-3.080000</td>\n",
       "    </tr>\n",
       "    <tr>\n",
       "      <th>1</th>\n",
       "      <td>0.20</td>\n",
       "      <td>0.000000</td>\n",
       "      <td>2.40</td>\n",
       "      <td>0.14</td>\n",
       "      <td>-1.810000</td>\n",
       "    </tr>\n",
       "    <tr>\n",
       "      <th>2</th>\n",
       "      <td>0.18</td>\n",
       "      <td>-18.889999</td>\n",
       "      <td>2.39</td>\n",
       "      <td>0.33</td>\n",
       "      <td>-1.890000</td>\n",
       "    </tr>\n",
       "    <tr>\n",
       "      <th>3</th>\n",
       "      <td>4.91</td>\n",
       "      <td>1571.050000</td>\n",
       "      <td>1802.37</td>\n",
       "      <td>11.52</td>\n",
       "      <td>199.350010</td>\n",
       "    </tr>\n",
       "    <tr>\n",
       "      <th>4</th>\n",
       "      <td>4.20</td>\n",
       "      <td>877.039980</td>\n",
       "      <td>1171.28</td>\n",
       "      <td>9.58</td>\n",
       "      <td>92.589996</td>\n",
       "    </tr>\n",
       "  </tbody>\n",
       "</table>\n",
       "</div>"
      ],
      "text/plain": [
       "     Ws           Rm       Cm     Rs           P\n",
       "0  1.90  -336.720000     3.10   0.84   -3.080000\n",
       "1  0.20     0.000000     2.40   0.14   -1.810000\n",
       "2  0.18   -18.889999     2.39   0.33   -1.890000\n",
       "3  4.91  1571.050000  1802.37  11.52  199.350010\n",
       "4  4.20   877.039980  1171.28   9.58   92.589996"
      ]
     },
     "execution_count": 7,
     "metadata": {},
     "output_type": "execute_result"
    }
   ],
   "source": [
    "# fill NAs of the dataframe with 0s.\n",
    "filtered_dataframe = filtered_dataframe.fillna(0)\n",
    "filtered_dataframe.head()"
   ]
  },
  {
   "cell_type": "code",
   "execution_count": 8,
   "metadata": {},
   "outputs": [],
   "source": [
    "# define the power categories names.\n",
    "power_categories_names = np.array(['negative infinity ~ -1', '0 ~ 499', '500 ~ 999', '1000 ~ 1299', '1300 ~ 1599', '1600 ~ 1899', '1900 ~ positive infinity'])"
   ]
  },
  {
   "cell_type": "code",
   "execution_count": 9,
   "metadata": {},
   "outputs": [
    {
     "data": {
      "image/png": "[encoded data removed]",
      "text/plain": [
       "<Figure size 432x288 with 1 Axes>"
      ]
     },
     "metadata": {
      "needs_background": "light"
     },
     "output_type": "display_data"
    }
   ],
   "source": [
    "# categorize the power column.\n",
    "bins = np.array([np.NINF, 0, 500, 1000, 1300, 1600, 1900, np.Inf])\n",
    "powers = filtered_dataframe[POWER_COLUMN_NAME].to_numpy()\n",
    "power_category_indices = np.digitize(powers, bins, right=False)\n",
    "power_categories = power_category_indices - 1\n",
    "plot_array('Power Categories', power_categories)"
   ]
  },
  {
   "cell_type": "code",
   "execution_count": 10,
   "metadata": {},
   "outputs": [
    {
     "data": {
      "text/html": [
       "<div>\n",
       "<style scoped>\n",
       "    .dataframe tbody tr th:only-of-type {\n",
       "        vertical-align: middle;\n",
       "    }\n",
       "\n",
       "    .dataframe tbody tr th {\n",
       "        vertical-align: top;\n",
       "    }\n",
       "\n",
       "    .dataframe thead th {\n",
       "        text-align: right;\n",
       "    }\n",
       "</style>\n",
       "<table border=\"1\" class=\"dataframe\">\n",
       "  <thead>\n",
       "    <tr style=\"text-align: right;\">\n",
       "      <th></th>\n",
       "      <th>negative infinity ~ -1</th>\n",
       "      <th>0 ~ 499</th>\n",
       "      <th>500 ~ 999</th>\n",
       "      <th>1000 ~ 1299</th>\n",
       "      <th>1300 ~ 1599</th>\n",
       "      <th>1600 ~ 1899</th>\n",
       "      <th>1900 ~ positive infinity</th>\n",
       "    </tr>\n",
       "  </thead>\n",
       "  <tbody>\n",
       "    <tr>\n",
       "      <th>0</th>\n",
       "      <td>1</td>\n",
       "      <td>0</td>\n",
       "      <td>0</td>\n",
       "      <td>0</td>\n",
       "      <td>0</td>\n",
       "      <td>0</td>\n",
       "      <td>0</td>\n",
       "    </tr>\n",
       "    <tr>\n",
       "      <th>1</th>\n",
       "      <td>1</td>\n",
       "      <td>0</td>\n",
       "      <td>0</td>\n",
       "      <td>0</td>\n",
       "      <td>0</td>\n",
       "      <td>0</td>\n",
       "      <td>0</td>\n",
       "    </tr>\n",
       "    <tr>\n",
       "      <th>2</th>\n",
       "      <td>1</td>\n",
       "      <td>0</td>\n",
       "      <td>0</td>\n",
       "      <td>0</td>\n",
       "      <td>0</td>\n",
       "      <td>0</td>\n",
       "      <td>0</td>\n",
       "    </tr>\n",
       "    <tr>\n",
       "      <th>3</th>\n",
       "      <td>0</td>\n",
       "      <td>1</td>\n",
       "      <td>0</td>\n",
       "      <td>0</td>\n",
       "      <td>0</td>\n",
       "      <td>0</td>\n",
       "      <td>0</td>\n",
       "    </tr>\n",
       "    <tr>\n",
       "      <th>4</th>\n",
       "      <td>0</td>\n",
       "      <td>1</td>\n",
       "      <td>0</td>\n",
       "      <td>0</td>\n",
       "      <td>0</td>\n",
       "      <td>0</td>\n",
       "      <td>0</td>\n",
       "    </tr>\n",
       "  </tbody>\n",
       "</table>\n",
       "</div>"
      ],
      "text/plain": [
       "   negative infinity ~ -1  0 ~ 499  500 ~ 999  1000 ~ 1299  1300 ~ 1599  \\\n",
       "0                       1        0          0            0            0   \n",
       "1                       1        0          0            0            0   \n",
       "2                       1        0          0            0            0   \n",
       "3                       0        1          0            0            0   \n",
       "4                       0        1          0            0            0   \n",
       "\n",
       "   1600 ~ 1899  1900 ~ positive infinity  \n",
       "0            0                         0  \n",
       "1            0                         0  \n",
       "2            0                         0  \n",
       "3            0                         0  \n",
       "4            0                         0  "
      ]
     },
     "execution_count": 10,
     "metadata": {},
     "output_type": "execute_result"
    }
   ],
   "source": [
    "# generate the output dataframe.\n",
    "output_categorical = pd.Categorical.from_codes(power_categories, power_categories_names)\n",
    "output_dataframe = pd.get_dummies(output_categorical)\n",
    "output_dataframe.head()"
   ]
  },
  {
   "cell_type": "code",
   "execution_count": 11,
   "metadata": {},
   "outputs": [
    {
     "data": {
      "text/html": [
       "<div>\n",
       "<style scoped>\n",
       "    .dataframe tbody tr th:only-of-type {\n",
       "        vertical-align: middle;\n",
       "    }\n",
       "\n",
       "    .dataframe tbody tr th {\n",
       "        vertical-align: top;\n",
       "    }\n",
       "\n",
       "    .dataframe thead th {\n",
       "        text-align: right;\n",
       "    }\n",
       "</style>\n",
       "<table border=\"1\" class=\"dataframe\">\n",
       "  <thead>\n",
       "    <tr style=\"text-align: right;\">\n",
       "      <th></th>\n",
       "      <th>Ws</th>\n",
       "      <th>Rm</th>\n",
       "      <th>Cm</th>\n",
       "      <th>Rs</th>\n",
       "    </tr>\n",
       "  </thead>\n",
       "  <tbody>\n",
       "    <tr>\n",
       "      <th>0</th>\n",
       "      <td>1.90</td>\n",
       "      <td>-336.720000</td>\n",
       "      <td>3.10</td>\n",
       "      <td>0.84</td>\n",
       "    </tr>\n",
       "    <tr>\n",
       "      <th>1</th>\n",
       "      <td>0.20</td>\n",
       "      <td>0.000000</td>\n",
       "      <td>2.40</td>\n",
       "      <td>0.14</td>\n",
       "    </tr>\n",
       "    <tr>\n",
       "      <th>2</th>\n",
       "      <td>0.18</td>\n",
       "      <td>-18.889999</td>\n",
       "      <td>2.39</td>\n",
       "      <td>0.33</td>\n",
       "    </tr>\n",
       "    <tr>\n",
       "      <th>3</th>\n",
       "      <td>4.91</td>\n",
       "      <td>1571.050000</td>\n",
       "      <td>1802.37</td>\n",
       "      <td>11.52</td>\n",
       "    </tr>\n",
       "    <tr>\n",
       "      <th>4</th>\n",
       "      <td>4.20</td>\n",
       "      <td>877.039980</td>\n",
       "      <td>1171.28</td>\n",
       "      <td>9.58</td>\n",
       "    </tr>\n",
       "  </tbody>\n",
       "</table>\n",
       "</div>"
      ],
      "text/plain": [
       "     Ws           Rm       Cm     Rs\n",
       "0  1.90  -336.720000     3.10   0.84\n",
       "1  0.20     0.000000     2.40   0.14\n",
       "2  0.18   -18.889999     2.39   0.33\n",
       "3  4.91  1571.050000  1802.37  11.52\n",
       "4  4.20   877.039980  1171.28   9.58"
      ]
     },
     "execution_count": 11,
     "metadata": {},
     "output_type": "execute_result"
    }
   ],
   "source": [
    "# generate the input dataframe by filtering out the power column from the filtered dataframe.\n",
    "concat_object = [filtered_dataframe[WIND_SPEED_COLUMN_NAME],\n",
    "                 filtered_dataframe[TORQUE_COLUMN_NAME],\n",
    "                 filtered_dataframe[CONVERTER_TORQUE_COLUMN_NAME],\n",
    "                 filtered_dataframe[ROTOR_SPEED_COLUMN_NAME]]\n",
    "concat_keys = feature_names\n",
    "input_dataframe = pd.concat(concat_object, axis=1, keys=concat_keys)\n",
    "input_dataframe.head()"
   ]
  },
  {
   "cell_type": "code",
   "execution_count": 12,
   "metadata": {},
   "outputs": [],
   "source": [
    "# define array clustering function.\n",
    "def get_clutered_array(array, cluters_count):\n",
    "    kmeans = sk.cluster.KMeans(n_clusters=cluters_count, random_state=0).fit(array.reshape(-1,1))\n",
    "    labels = kmeans.labels_\n",
    "    centroids = kmeans.cluster_centers_[:, 0]\n",
    "    result = np.copy(array)\n",
    "    for index in range(len(array)):\n",
    "        result[index] = centroids[labels[index]]\n",
    "    return result"
   ]
  },
  {
   "cell_type": "code",
   "execution_count": 13,
   "metadata": {},
   "outputs": [],
   "source": [
    "# define dataframe column clustering function.\n",
    "def get_column_clustered_dataframe(dataframe, clusters_count):\n",
    "    result = dataframe.copy()\n",
    "    for column_name in dataframe:\n",
    "        column_array = dataframe[column_name].to_numpy()\n",
    "        clustered_array = get_clutered_array(column_array, clusters_count)\n",
    "        result[column_name] = pd.Series(clustered_array)\n",
    "    return result"
   ]
  },
  {
   "cell_type": "code",
   "execution_count": 14,
   "metadata": {},
   "outputs": [
    {
     "data": {
      "text/html": [
       "<div>\n",
       "<style scoped>\n",
       "    .dataframe tbody tr th:only-of-type {\n",
       "        vertical-align: middle;\n",
       "    }\n",
       "\n",
       "    .dataframe tbody tr th {\n",
       "        vertical-align: top;\n",
       "    }\n",
       "\n",
       "    .dataframe thead th {\n",
       "        text-align: right;\n",
       "    }\n",
       "</style>\n",
       "<table border=\"1\" class=\"dataframe\">\n",
       "  <thead>\n",
       "    <tr style=\"text-align: right;\">\n",
       "      <th></th>\n",
       "      <th>Ws</th>\n",
       "      <th>Rm</th>\n",
       "      <th>Cm</th>\n",
       "      <th>Rs</th>\n",
       "    </tr>\n",
       "  </thead>\n",
       "  <tbody>\n",
       "    <tr>\n",
       "      <th>0</th>\n",
       "      <td>2.034018</td>\n",
       "      <td>518.936949</td>\n",
       "      <td>647.535829</td>\n",
       "      <td>0.692551</td>\n",
       "    </tr>\n",
       "    <tr>\n",
       "      <th>1</th>\n",
       "      <td>2.034018</td>\n",
       "      <td>518.936949</td>\n",
       "      <td>647.535829</td>\n",
       "      <td>0.692551</td>\n",
       "    </tr>\n",
       "    <tr>\n",
       "      <th>2</th>\n",
       "      <td>2.034018</td>\n",
       "      <td>518.936949</td>\n",
       "      <td>647.535829</td>\n",
       "      <td>0.692551</td>\n",
       "    </tr>\n",
       "    <tr>\n",
       "      <th>3</th>\n",
       "      <td>5.679680</td>\n",
       "      <td>518.936949</td>\n",
       "      <td>647.535829</td>\n",
       "      <td>10.598060</td>\n",
       "    </tr>\n",
       "    <tr>\n",
       "      <th>4</th>\n",
       "      <td>5.679680</td>\n",
       "      <td>518.936949</td>\n",
       "      <td>647.535829</td>\n",
       "      <td>10.598060</td>\n",
       "    </tr>\n",
       "  </tbody>\n",
       "</table>\n",
       "</div>"
      ],
      "text/plain": [
       "         Ws          Rm          Cm         Rs\n",
       "0  2.034018  518.936949  647.535829   0.692551\n",
       "1  2.034018  518.936949  647.535829   0.692551\n",
       "2  2.034018  518.936949  647.535829   0.692551\n",
       "3  5.679680  518.936949  647.535829  10.598060\n",
       "4  5.679680  518.936949  647.535829  10.598060"
      ]
     },
     "execution_count": 14,
     "metadata": {},
     "output_type": "execute_result"
    }
   ],
   "source": [
    "# cluster the input dataframe by column.\n",
    "input_dataframe = get_column_clustered_dataframe(input_dataframe, INPUT_COLUMNS_CLUSTERS_COUNT)\n",
    "input_dataframe.head()"
   ]
  },
  {
   "cell_type": "code",
   "execution_count": 15,
   "metadata": {},
   "outputs": [
    {
     "data": {
      "image/png": "[encoded data removed]",
      "text/plain": [
       "<Figure size 432x288 with 1 Axes>"
      ]
     },
     "metadata": {
      "needs_background": "light"
     },
     "output_type": "display_data"
    },
    {
     "data": {
      "image/png": "[encoded data removed]",
      "text/plain": [
       "<Figure size 432x288 with 1 Axes>"
      ]
     },
     "metadata": {
      "needs_background": "light"
     },
     "output_type": "display_data"
    },
    {
     "data": {
      "image/png": "[encoded data removed]",
      "text/plain": [
       "<Figure size 432x288 with 1 Axes>"
      ]
     },
     "metadata": {
      "needs_background": "light"
     },
     "output_type": "display_data"
    },
    {
     "data": {
      "image/png": "[encoded data removed]",
      "text/plain": [
       "<Figure size 432x288 with 1 Axes>"
      ]
     },
     "metadata": {
      "needs_background": "light"
     },
     "output_type": "display_data"
    }
   ],
   "source": [
    "# plot all columns of the clustered input dataframe.\n",
    "for column_name in input_dataframe:\n",
    "    plot_array(column_name, input_dataframe[column_name].to_numpy())"
   ]
  },
  {
   "cell_type": "code",
   "execution_count": 16,
   "metadata": {},
   "outputs": [],
   "source": [
    "# define functions for transferring pandas dataframe to sklearn array.\n",
    "def get_sk_decision_tree_input(dataframe):\n",
    "    return dataframe.to_numpy()\n",
    "\n",
    "def get_sk_decision_tree_output(dataframe):\n",
    "    return np.array(dataframe).argmax(axis=1)"
   ]
  },
  {
   "cell_type": "code",
   "execution_count": 17,
   "metadata": {},
   "outputs": [],
   "source": [
    "# split input and output dataframes into random train and test subsets.\n",
    "TEST_SIZE = 0.25\n",
    "train_input_dataframe, test_input_dataframe, train_output_dataframe, test_output_dataframe = sk.model_selection.train_test_split(input_dataframe, output_dataframe,\n",
    "                                                                                                                                 test_size=TEST_SIZE,\n",
    "                                                                                                                                 random_state=1)\n",
    "train_input_array = get_sk_decision_tree_input(train_input_dataframe)\n",
    "test_input_array = get_sk_decision_tree_input(test_input_dataframe)\n",
    "train_output_array = get_sk_decision_tree_output(train_output_dataframe)\n",
    "test_output_array = get_sk_decision_tree_output(test_output_dataframe)"
   ]
  },
  {
   "cell_type": "code",
   "execution_count": 18,
   "metadata": {},
   "outputs": [],
   "source": [
    "# generate the decision tree classifier.\n",
    "decision_tree_classifier = sk.tree.DecisionTreeClassifier()\n",
    "decision_tree = decision_tree_classifier.fit(train_input_array, train_output_array)"
   ]
  },
  {
   "cell_type": "code",
   "execution_count": 19,
   "metadata": {},
   "outputs": [
    {
     "data": {
      "text/plain": [
       "'Wind Power Decision Tree.pdf'"
      ]
     },
     "execution_count": 19,
     "metadata": {},
     "output_type": "execute_result"
    }
   ],
   "source": [
    "# output pdf of the decision tree.\n",
    "OUTPUT_FILE_NAME = 'Wind Power Decision Tree'\n",
    "graphviz_dot = sk.tree.export_graphviz(decision_tree, out_file=None, feature_names=feature_names)\n",
    "graph = graphviz.Source(graphviz_dot)\n",
    "graph.render(OUTPUT_FILE_NAME)"
   ]
  },
  {
   "cell_type": "code",
   "execution_count": 20,
   "metadata": {},
   "outputs": [
    {
     "data": {
      "text/plain": [
       "0.7544533705902899"
      ]
     },
     "execution_count": 20,
     "metadata": {},
     "output_type": "execute_result"
    }
   ],
   "source": [
    "# predict using the decision tree classifier.\n",
    "predicted_output_array = decision_tree_classifier.predict(test_input_array)\n",
    "\n",
    "# output the decision tree classifier accuracy score.\n",
    "sk.metrics.accuracy_score(test_output_array, predicted_output_array)"
   ]
  }
 ],
 "metadata": {
  "kernelspec": {
   "display_name": "Python 3",
   "language": "python",
   "name": "python3"
  },
  "language_info": {
   "codemirror_mode": {
    "name": "ipython",
    "version": 3
   },
   "file_extension": ".py",
   "mimetype": "text/x-python",
   "name": "python",
   "nbconvert_exporter": "python",
   "pygments_lexer": "ipython3",
   "version": "3.7.3"
  }
 },
 "nbformat": 4,
 "nbformat_minor": 2
}
